{
 "cells": [
  {
   "cell_type": "code",
   "execution_count": 2,
   "id": "infectious-signature",
   "metadata": {},
   "outputs": [
    {
     "name": "stdout",
     "output_type": "stream",
     "text": [
      "Academic license - for non-commercial use only - expires 2024-03-07\n",
      "Using license file /home/schwartzlab/gurobi.lic\n"
     ]
    }
   ],
   "source": [
    "import numpy as np\n",
    "import pandas as pd\n",
    "import cobra\n",
    "import cobra.test\n",
    "from cobra.test import create_test_model\n",
    "import os\n",
    "from os.path import join\n",
    "from time import time\n",
    "\n",
    "from cobra.flux_analysis import (\n",
    "    single_gene_deletion, single_reaction_deletion, double_gene_deletion,\n",
    "    double_reaction_deletion)\n",
    "\n",
    "a = cobra.io.read_sbml_model(\"iEC1344_C.xml\")\n"
   ]
  },
  {
   "cell_type": "code",
   "execution_count": 3,
   "id": "narrative-sellers",
   "metadata": {},
   "outputs": [],
   "source": [
    "a.reactions.EX_xyl__D_e.lower_bound= -10\n",
    "a.reactions.EX_xyl__D_e.upper_bound= 1000\n",
    "\n",
    "a.reactions.EX_glc__D_e.lower_bound= 0\n",
    "a.reactions.EX_glc__D_e.upper_bound= 0\n"
   ]
  },
  {
   "cell_type": "code",
   "execution_count": 4,
   "id": "nasty-anxiety",
   "metadata": {},
   "outputs": [
    {
     "data": {
      "text/plain": [
       "29.9"
      ]
     },
     "execution_count": 4,
     "metadata": {},
     "output_type": "execute_result"
    }
   ],
   "source": [
    "f= 29.900000001\n",
    "h= round(f, 2)\n",
    "h"
   ]
  },
  {
   "cell_type": "code",
   "execution_count": 5,
   "id": "aquatic-devon",
   "metadata": {},
   "outputs": [
    {
     "name": "stderr",
     "output_type": "stream",
     "text": [
      "/home/schwartzlab/miniconda3/lib/python3.8/site-packages/cobra/util/solver.py:508: UserWarning: Solver status is 'infeasible'.\n",
      "  warn(f\"Solver status is '{status}'.\", UserWarning)\n"
     ]
    },
    {
     "ename": "IndexError",
     "evalue": "list index out of range",
     "output_type": "error",
     "traceback": [
      "\u001b[0;31m---------------------------------------------------------------------------\u001b[0m",
      "\u001b[0;31mIndexError\u001b[0m                                Traceback (most recent call last)",
      "\u001b[0;32m<ipython-input-5-eacd13ff7e91>\u001b[0m in \u001b[0;36m<module>\u001b[0;34m\u001b[0m\n\u001b[1;32m      9\u001b[0m \u001b[0;34m\u001b[0m\u001b[0m\n\u001b[1;32m     10\u001b[0m     \u001b[0mi\u001b[0m \u001b[0;34m=\u001b[0m \u001b[0mi\u001b[0m \u001b[0;34m+\u001b[0m \u001b[0;36m1\u001b[0m\u001b[0;34m\u001b[0m\u001b[0;34m\u001b[0m\u001b[0m\n\u001b[0;32m---> 11\u001b[0;31m     \u001b[0mr\u001b[0m \u001b[0;34m=\u001b[0m \u001b[0ma\u001b[0m\u001b[0;34m.\u001b[0m\u001b[0mreactions\u001b[0m\u001b[0;34m[\u001b[0m\u001b[0mi\u001b[0m\u001b[0;34m]\u001b[0m\u001b[0;34m\u001b[0m\u001b[0;34m\u001b[0m\u001b[0m\n\u001b[0m\u001b[1;32m     12\u001b[0m     \u001b[0mr_id\u001b[0m \u001b[0;34m=\u001b[0m \u001b[0mr\u001b[0m\u001b[0;34m.\u001b[0m\u001b[0mid\u001b[0m\u001b[0;34m\u001b[0m\u001b[0;34m\u001b[0m\u001b[0m\n\u001b[1;32m     13\u001b[0m \u001b[0;34m\u001b[0m\u001b[0m\n",
      "\u001b[0;32m~/miniconda3/lib/python3.8/site-packages/cobra/core/dictlist.py\u001b[0m in \u001b[0;36m__getitem__\u001b[0;34m(self, i)\u001b[0m\n\u001b[1;32m    394\u001b[0m     \u001b[0;32mdef\u001b[0m \u001b[0m__getitem__\u001b[0m\u001b[0;34m(\u001b[0m\u001b[0mself\u001b[0m\u001b[0;34m,\u001b[0m \u001b[0mi\u001b[0m\u001b[0;34m)\u001b[0m\u001b[0;34m:\u001b[0m\u001b[0;34m\u001b[0m\u001b[0;34m\u001b[0m\u001b[0m\n\u001b[1;32m    395\u001b[0m         \u001b[0;32mif\u001b[0m \u001b[0misinstance\u001b[0m\u001b[0;34m(\u001b[0m\u001b[0mi\u001b[0m\u001b[0;34m,\u001b[0m \u001b[0mint\u001b[0m\u001b[0;34m)\u001b[0m\u001b[0;34m:\u001b[0m\u001b[0;34m\u001b[0m\u001b[0;34m\u001b[0m\u001b[0m\n\u001b[0;32m--> 396\u001b[0;31m             \u001b[0;32mreturn\u001b[0m \u001b[0mlist\u001b[0m\u001b[0;34m.\u001b[0m\u001b[0m__getitem__\u001b[0m\u001b[0;34m(\u001b[0m\u001b[0mself\u001b[0m\u001b[0;34m,\u001b[0m \u001b[0mi\u001b[0m\u001b[0;34m)\u001b[0m\u001b[0;34m\u001b[0m\u001b[0;34m\u001b[0m\u001b[0m\n\u001b[0m\u001b[1;32m    397\u001b[0m         \u001b[0;32melif\u001b[0m \u001b[0misinstance\u001b[0m\u001b[0;34m(\u001b[0m\u001b[0mi\u001b[0m\u001b[0;34m,\u001b[0m \u001b[0mslice\u001b[0m\u001b[0;34m)\u001b[0m\u001b[0;34m:\u001b[0m\u001b[0;34m\u001b[0m\u001b[0;34m\u001b[0m\u001b[0m\n\u001b[1;32m    398\u001b[0m             \u001b[0mselection\u001b[0m \u001b[0;34m=\u001b[0m \u001b[0mself\u001b[0m\u001b[0;34m.\u001b[0m\u001b[0m__class__\u001b[0m\u001b[0;34m(\u001b[0m\u001b[0;34m)\u001b[0m\u001b[0;34m\u001b[0m\u001b[0;34m\u001b[0m\u001b[0m\n",
      "\u001b[0;31mIndexError\u001b[0m: list index out of range"
     ]
    }
   ],
   "source": [
    "fmin = -30\n",
    "fmax = 30\n",
    "i = -1\n",
    "\n",
    "while i< 2727:\n",
    "    x = list()    # x and y need to be reinitialised for each new reaction\n",
    "    y = list()\n",
    "    f = fmin      # define a new variable to change the flux, fmin should remain a fixed value\n",
    "\n",
    "    i = i + 1\n",
    "    r = a.reactions[i]\n",
    "    r_id = r.id\n",
    "\n",
    "    foriginalmax = a.reactions.get_by_id(r_id).upper_bound\n",
    "    foriginalmin = a.reactions.get_by_id(r_id).lower_bound\n",
    "    a.reactions.get_by_id(r_id).lower_bound = a.reactions.get_by_id(r_id).upper_bound = round(f, 2)\n",
    "\n",
    "    while round(f, 2) <= fmax:\n",
    "        a.reactions.get_by_id(r_id).lower_bound = a.reactions.get_by_id(r_id).upper_bound = round(f, 2)\n",
    "        \n",
    "        solution = a.optimize()\n",
    "        ov_new = solution.objective_value\n",
    "\n",
    "        x.append(round(f, 2))\n",
    "        y.append(ov_new)\n",
    "\n",
    "        f = round(f, 2) + 0.1\n",
    "\n",
    "    d = pd.DataFrame(x, columns = ['flux'])\n",
    "    d2 = pd.DataFrame(y, columns = ['Biomass'])\n",
    "    d['Biomass'] = d2['Biomass']\n",
    "    biomass_per_flux = d.to_csv('biomass_per_flux_for_reaction_{}_xylose.csv'.format(r_id), index = True)\n",
    "    a.reactions.get_by_id(r_id).lower_bound = foriginalmin\n",
    "    a.reactions.get_by_id(r_id).upper_bound = foriginalmax\n"
   ]
  },
  {
   "cell_type": "code",
   "execution_count": 80,
   "id": "elementary-chamber",
   "metadata": {},
   "outputs": [
    {
     "data": {
      "text/plain": [
       "0.9823963461343016"
      ]
     },
     "execution_count": 80,
     "metadata": {},
     "output_type": "execute_result"
    }
   ],
   "source": [
    "a.reactions.get_by_id(\"34DHALDD\").lower_bound = a.reactions.get_by_id(\"34DHALDD\").upper_bound = 0\n",
    "\n",
    "solution = a.optimize()\n",
    "solution.objective_value\n"
   ]
  },
  {
   "cell_type": "code",
   "execution_count": null,
   "id": "molecular-chile",
   "metadata": {},
   "outputs": [],
   "source": []
  }
 ],
 "metadata": {
  "kernelspec": {
   "display_name": "Python 3",
   "language": "python",
   "name": "python3"
  },
  "language_info": {
   "codemirror_mode": {
    "name": "ipython",
    "version": 3
   },
   "file_extension": ".py",
   "mimetype": "text/x-python",
   "name": "python",
   "nbconvert_exporter": "python",
   "pygments_lexer": "ipython3",
   "version": "3.8.3"
  }
 },
 "nbformat": 4,
 "nbformat_minor": 5
}
